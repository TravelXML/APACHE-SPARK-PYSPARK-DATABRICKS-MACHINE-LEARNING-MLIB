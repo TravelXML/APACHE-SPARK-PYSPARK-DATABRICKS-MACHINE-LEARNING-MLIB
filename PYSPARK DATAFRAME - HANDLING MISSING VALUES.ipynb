{
 "cells": [
  {
   "cell_type": "markdown",
   "metadata": {
    "application/vnd.databricks.v1+cell": {
     "cellMetadata": {},
     "inputWidgets": {},
     "nuid": "a50fd917-b9f5-43ae-8507-7a6f2e01ade9",
     "showTitle": false,
     "title": ""
    }
   },
   "source": [
    "### Pyspark Handling Missing Values\n",
    "- Dropping Columns\n",
    "- Dropping Rows\n",
    "- Various Parameter In Dropping functionalities\n",
    "- Handling Missing values by Mean, MEdian And Mode"
   ]
  },
  {
   "cell_type": "code",
   "execution_count": 0,
   "metadata": {
    "application/vnd.databricks.v1+cell": {
     "cellMetadata": {},
     "inputWidgets": {},
     "nuid": "cb92ad94-7048-4de4-a8e3-8b6eb825d1e1",
     "showTitle": false,
     "title": ""
    }
   },
   "outputs": [],
   "source": [
    "from pyspark.sql import SparkSession\n",
    "spark=SparkSession.builder.appName('Practise').getOrCreate()"
   ]
  },
  {
   "cell_type": "code",
   "execution_count": 0,
   "metadata": {
    "application/vnd.databricks.v1+cell": {
     "cellMetadata": {
      "byteLimit": 2048000,
      "rowLimit": 10000
     },
     "inputWidgets": {},
     "nuid": "dde4fdf7-3dcf-4cc5-b8ed-3af07131ebbe",
     "showTitle": false,
     "title": ""
    }
   },
   "outputs": [],
   "source": [
    "df_pyspark=spark.read.csv('/FileStore/shared_uploads/astartupcto@gmail.com/test2.csv',header=True,inferSchema=True)"
   ]
  },
  {
   "cell_type": "code",
   "execution_count": 0,
   "metadata": {
    "application/vnd.databricks.v1+cell": {
     "cellMetadata": {
      "byteLimit": 2048000,
      "rowLimit": 10000
     },
     "inputWidgets": {},
     "nuid": "f9b98593-3ee3-42f9-ada4-16e29958a488",
     "showTitle": false,
     "title": ""
    }
   },
   "outputs": [
    {
     "output_type": "stream",
     "name": "stdout",
     "output_type": "stream",
     "text": [
      "root\n |-- Name: string (nullable = true)\n |-- age: integer (nullable = true)\n |-- Experience: integer (nullable = true)\n |-- Salary: integer (nullable = true)\n\n"
     ]
    }
   ],
   "source": [
    "df_pyspark.printSchema()"
   ]
  },
  {
   "cell_type": "code",
   "execution_count": 0,
   "metadata": {
    "application/vnd.databricks.v1+cell": {
     "cellMetadata": {
      "byteLimit": 2048000,
      "rowLimit": 10000
     },
     "inputWidgets": {},
     "nuid": "7660e244-2aeb-4928-ad32-97c0794c0e2b",
     "showTitle": false,
     "title": ""
    }
   },
   "outputs": [
    {
     "output_type": "stream",
     "name": "stdout",
     "output_type": "stream",
     "text": [
      "+--------+----+----------+------+\n|    Name| age|Experience|Salary|\n+--------+----+----------+------+\n|   Sapan|  31|        10| 30000|\n|Priyanka|  30|         8| 25000|\n| Supriya|  29|         4| 20000|\n|   Sainy|  24|         3| 20000|\n|    Anil|  21|         1| 15000|\n|Gurpreet|  23|         2| 18000|\n|  Piyush|null|      null| 40000|\n|    null|  34|        10| 38000|\n|    null|  36|      null|  null|\n+--------+----+----------+------+\n\n"
     ]
    }
   ],
   "source": [
    "df_pyspark.show()"
   ]
  },
  {
   "cell_type": "code",
   "execution_count": 0,
   "metadata": {
    "application/vnd.databricks.v1+cell": {
     "cellMetadata": {
      "byteLimit": 2048000,
      "rowLimit": 10000
     },
     "inputWidgets": {},
     "nuid": "e0562546-c884-4d49-bfb2-59d39fda652e",
     "showTitle": false,
     "title": ""
    }
   },
   "outputs": [
    {
     "output_type": "stream",
     "name": "stdout",
     "output_type": "stream",
     "text": [
      "+--------+----------+------+\n|    Name|Experience|Salary|\n+--------+----------+------+\n|   Sapan|        10| 30000|\n|Priyanka|         8| 25000|\n| Supriya|         4| 20000|\n|   Sainy|         3| 20000|\n|    Anil|         1| 15000|\n|Gurpreet|         2| 18000|\n|  Piyush|      null| 40000|\n|    null|        10| 38000|\n|    null|      null|  null|\n+--------+----------+------+\n\n"
     ]
    }
   ],
   "source": [
    "##drop the columns\n",
    "df_pyspark.drop('age').show()"
   ]
  },
  {
   "cell_type": "code",
   "execution_count": 0,
   "metadata": {
    "application/vnd.databricks.v1+cell": {
     "cellMetadata": {
      "byteLimit": 2048000,
      "rowLimit": 10000
     },
     "inputWidgets": {},
     "nuid": "053a3338-1dc2-44f2-8aed-420053e44671",
     "showTitle": false,
     "title": ""
    }
   },
   "outputs": [
    {
     "output_type": "stream",
     "name": "stdout",
     "output_type": "stream",
     "text": [
      "+--------+----+----------+------+\n|    Name| age|Experience|Salary|\n+--------+----+----------+------+\n|   Sapan|  31|        10| 30000|\n|Priyanka|  30|         8| 25000|\n| Supriya|  29|         4| 20000|\n|   Sainy|  24|         3| 20000|\n|    Anil|  21|         1| 15000|\n|Gurpreet|  23|         2| 18000|\n|  Piyush|null|      null| 40000|\n|    null|  34|        10| 38000|\n|    null|  36|      null|  null|\n+--------+----+----------+------+\n\n"
     ]
    }
   ],
   "source": [
    "df_pyspark.show()"
   ]
  },
  {
   "cell_type": "code",
   "execution_count": 0,
   "metadata": {
    "application/vnd.databricks.v1+cell": {
     "cellMetadata": {
      "byteLimit": 2048000,
      "rowLimit": 10000
     },
     "inputWidgets": {},
     "nuid": "4c37468b-5324-47f5-b7c7-53afb3fa6c99",
     "showTitle": false,
     "title": ""
    }
   },
   "outputs": [
    {
     "output_type": "stream",
     "name": "stdout",
     "output_type": "stream",
     "text": [
      "+--------+---+----------+------+\n|    Name|age|Experience|Salary|\n+--------+---+----------+------+\n|   Sapan| 31|        10| 30000|\n|Priyanka| 30|         8| 25000|\n| Supriya| 29|         4| 20000|\n|   Sainy| 24|         3| 20000|\n|    Anil| 21|         1| 15000|\n|Gurpreet| 23|         2| 18000|\n+--------+---+----------+------+\n\n"
     ]
    }
   ],
   "source": [
    "df_pyspark.na.drop().show()"
   ]
  },
  {
   "cell_type": "code",
   "execution_count": 0,
   "metadata": {
    "application/vnd.databricks.v1+cell": {
     "cellMetadata": {
      "byteLimit": 2048000,
      "rowLimit": 10000
     },
     "inputWidgets": {},
     "nuid": "63137859-47c5-4699-977e-774f99cbd604",
     "showTitle": false,
     "title": ""
    }
   },
   "outputs": [
    {
     "output_type": "stream",
     "name": "stdout",
     "output_type": "stream",
     "text": [
      "+--------+---+----------+------+\n|    Name|age|Experience|Salary|\n+--------+---+----------+------+\n|   Sapan| 31|        10| 30000|\n|Priyanka| 30|         8| 25000|\n| Supriya| 29|         4| 20000|\n|   Sainy| 24|         3| 20000|\n|    Anil| 21|         1| 15000|\n|Gurpreet| 23|         2| 18000|\n+--------+---+----------+------+\n\n"
     ]
    }
   ],
   "source": [
    "### any==how\n",
    "df_pyspark.na.drop(how=\"any\").show()"
   ]
  },
  {
   "cell_type": "code",
   "execution_count": 0,
   "metadata": {
    "application/vnd.databricks.v1+cell": {
     "cellMetadata": {
      "byteLimit": 2048000,
      "rowLimit": 10000
     },
     "inputWidgets": {},
     "nuid": "936ae8b7-6431-4048-a40b-e4d2c952498b",
     "showTitle": false,
     "title": ""
    }
   },
   "outputs": [
    {
     "output_type": "stream",
     "name": "stdout",
     "output_type": "stream",
     "text": [
      "+--------+---+----------+------+\n|    Name|age|Experience|Salary|\n+--------+---+----------+------+\n|   Sapan| 31|        10| 30000|\n|Priyanka| 30|         8| 25000|\n| Supriya| 29|         4| 20000|\n|   Sainy| 24|         3| 20000|\n|    Anil| 21|         1| 15000|\n|Gurpreet| 23|         2| 18000|\n|    null| 34|        10| 38000|\n+--------+---+----------+------+\n\n"
     ]
    }
   ],
   "source": [
    "##threshold\n",
    "df_pyspark.na.drop(how=\"any\",thresh=3).show()"
   ]
  },
  {
   "cell_type": "code",
   "execution_count": 0,
   "metadata": {
    "application/vnd.databricks.v1+cell": {
     "cellMetadata": {
      "byteLimit": 2048000,
      "rowLimit": 10000
     },
     "inputWidgets": {},
     "nuid": "c4ed3674-e5dc-4d63-bca3-69610a1696eb",
     "showTitle": false,
     "title": ""
    }
   },
   "outputs": [
    {
     "output_type": "stream",
     "name": "stdout",
     "output_type": "stream",
     "text": [
      "+--------+---+----------+------+\n|    Name|age|Experience|Salary|\n+--------+---+----------+------+\n|   Sapan| 31|        10| 30000|\n|Priyanka| 30|         8| 25000|\n| Supriya| 29|         4| 20000|\n|   Sainy| 24|         3| 20000|\n|    Anil| 21|         1| 15000|\n|Gurpreet| 23|         2| 18000|\n|    null| 34|        10| 38000|\n|    null| 36|      null|  null|\n+--------+---+----------+------+\n\n"
     ]
    }
   ],
   "source": [
    "##Subset\n",
    "df_pyspark.na.drop(how=\"any\",subset=['Age']).show()"
   ]
  },
  {
   "cell_type": "code",
   "execution_count": 0,
   "metadata": {
    "application/vnd.databricks.v1+cell": {
     "cellMetadata": {
      "byteLimit": 2048000,
      "rowLimit": 10000
     },
     "inputWidgets": {},
     "nuid": "1d464c8a-44e6-4847-8732-e0eddad02eb8",
     "showTitle": false,
     "title": ""
    }
   },
   "outputs": [
    {
     "output_type": "stream",
     "name": "stdout",
     "output_type": "stream",
     "text": [
      "+--------+----+----------+------+\n|    Name| age|Experience|Salary|\n+--------+----+----------+------+\n|   Sapan|  31|        10| 30000|\n|Priyanka|  30|         8| 25000|\n| Supriya|  29|         4| 20000|\n|   Sainy|  24|         3| 20000|\n|    Anil|  21|         1| 15000|\n|Gurpreet|  23|         2| 18000|\n|  Piyush|null|      null| 40000|\n|    null|  34|        10| 38000|\n|    null|  36|      null|  null|\n+--------+----+----------+------+\n\n"
     ]
    }
   ],
   "source": [
    "### Filling the Missing Value\n",
    "df_pyspark.na.fill('Missing Values',['Experience','age']).show()"
   ]
  },
  {
   "cell_type": "code",
   "execution_count": 0,
   "metadata": {
    "application/vnd.databricks.v1+cell": {
     "cellMetadata": {
      "byteLimit": 2048000,
      "rowLimit": 10000
     },
     "inputWidgets": {},
     "nuid": "06799bb9-6cca-4660-a96b-6a967497b6af",
     "showTitle": false,
     "title": ""
    }
   },
   "outputs": [
    {
     "output_type": "stream",
     "name": "stdout",
     "output_type": "stream",
     "text": [
      "+--------+----+----------+------+\n|    Name| age|Experience|Salary|\n+--------+----+----------+------+\n|   Sapan|  31|        10| 30000|\n|Priyanka|  30|         8| 25000|\n| Supriya|  29|         4| 20000|\n|   Sainy|  24|         3| 20000|\n|    Anil|  21|         1| 15000|\n|Gurpreet|  23|         2| 18000|\n|  Piyush|null|      null| 40000|\n|    null|  34|        10| 38000|\n|    null|  36|      null|  null|\n+--------+----+----------+------+\n\n"
     ]
    }
   ],
   "source": [
    "df_pyspark.show()"
   ]
  },
  {
   "cell_type": "code",
   "execution_count": 0,
   "metadata": {
    "application/vnd.databricks.v1+cell": {
     "cellMetadata": {},
     "inputWidgets": {},
     "nuid": "1986b5a3-0508-499a-89d7-981562c80ea6",
     "showTitle": false,
     "title": ""
    }
   },
   "outputs": [
    {
     "output_type": "stream",
     "name": "stdout",
     "output_type": "stream",
     "text": [
      "root\n |-- Name: string (nullable = true)\n |-- age: string (nullable = true)\n |-- Experience: string (nullable = true)\n |-- Salary: string (nullable = true)\n\n"
     ]
    }
   ],
   "source": [
    "df_pyspark.printSchema()"
   ]
  },
  {
   "cell_type": "code",
   "execution_count": 0,
   "metadata": {
    "application/vnd.databricks.v1+cell": {
     "cellMetadata": {
      "byteLimit": 2048000,
      "rowLimit": 10000
     },
     "inputWidgets": {},
     "nuid": "2c8485b8-b4a3-451f-a8b2-e9a0aa7e4877",
     "showTitle": false,
     "title": ""
    }
   },
   "outputs": [],
   "source": [
    "from pyspark.ml.feature import Imputer\n",
    "\n",
    "imputer = Imputer(\n",
    "    inputCols=['age', 'Experience', 'Salary'], \n",
    "    outputCols=[\"{}_imputed\".format(c) for c in ['age', 'Experience', 'Salary']]\n",
    "    ).setStrategy(\"median\")"
   ]
  },
  {
   "cell_type": "code",
   "execution_count": 0,
   "metadata": {
    "application/vnd.databricks.v1+cell": {
     "cellMetadata": {
      "byteLimit": 2048000,
      "rowLimit": 10000
     },
     "inputWidgets": {},
     "nuid": "de98353f-bc0c-48ff-bbd6-9420ba24e5e9",
     "showTitle": false,
     "title": ""
    }
   },
   "outputs": [
    {
     "output_type": "stream",
     "name": "stdout",
     "output_type": "stream",
     "text": [
      "+--------+----+----------+------+-----------+------------------+--------------+\n|    Name| age|Experience|Salary|age_imputed|Experience_imputed|Salary_imputed|\n+--------+----+----------+------+-----------+------------------+--------------+\n|   Sapan|  31|        10| 30000|         31|                10|         30000|\n|Priyanka|  30|         8| 25000|         30|                 8|         25000|\n| Supriya|  29|         4| 20000|         29|                 4|         20000|\n|   Sainy|  24|         3| 20000|         24|                 3|         20000|\n|    Anil|  21|         1| 15000|         21|                 1|         15000|\n|Gurpreet|  23|         2| 18000|         23|                 2|         18000|\n|  Piyush|null|      null| 40000|         29|                 4|         40000|\n|    null|  34|        10| 38000|         34|                10|         38000|\n|    null|  36|      null|  null|         36|                 4|         20000|\n+--------+----+----------+------+-----------+------------------+--------------+\n\n"
     ]
    }
   ],
   "source": [
    "# Add imputation cols to df\n",
    "imputer.fit(df_pyspark).transform(df_pyspark).show()"
   ]
  },
  {
   "cell_type": "code",
   "execution_count": 0,
   "metadata": {
    "application/vnd.databricks.v1+cell": {
     "cellMetadata": {},
     "inputWidgets": {},
     "nuid": "7caca923-e5f0-431b-ad87-388ca6937cc2",
     "showTitle": false,
     "title": ""
    }
   },
   "outputs": [],
   "source": []
  },
  {
   "cell_type": "code",
   "execution_count": 0,
   "metadata": {
    "application/vnd.databricks.v1+cell": {
     "cellMetadata": {},
     "inputWidgets": {},
     "nuid": "9fb53e03-6fc9-434a-8a34-4e9d6e213b29",
     "showTitle": false,
     "title": ""
    }
   },
   "outputs": [],
   "source": []
  },
  {
   "cell_type": "code",
   "execution_count": 0,
   "metadata": {
    "application/vnd.databricks.v1+cell": {
     "cellMetadata": {},
     "inputWidgets": {},
     "nuid": "ef9051d7-7ccd-489f-ac8b-c52e6be5cee0",
     "showTitle": false,
     "title": ""
    }
   },
   "outputs": [],
   "source": []
  },
  {
   "cell_type": "code",
   "execution_count": 0,
   "metadata": {
    "application/vnd.databricks.v1+cell": {
     "cellMetadata": {},
     "inputWidgets": {},
     "nuid": "1943b4dd-afe5-4f96-aaf9-315e21035df7",
     "showTitle": false,
     "title": ""
    }
   },
   "outputs": [],
   "source": []
  },
  {
   "cell_type": "code",
   "execution_count": 0,
   "metadata": {
    "application/vnd.databricks.v1+cell": {
     "cellMetadata": {},
     "inputWidgets": {},
     "nuid": "08b9028e-cc50-4ebc-b12f-2a0db42907bd",
     "showTitle": false,
     "title": ""
    }
   },
   "outputs": [],
   "source": []
  },
  {
   "cell_type": "code",
   "execution_count": 0,
   "metadata": {
    "application/vnd.databricks.v1+cell": {
     "cellMetadata": {},
     "inputWidgets": {},
     "nuid": "502dbccb-8129-4f84-8362-1f76985dc1e1",
     "showTitle": false,
     "title": ""
    }
   },
   "outputs": [],
   "source": []
  },
  {
   "cell_type": "code",
   "execution_count": 0,
   "metadata": {
    "application/vnd.databricks.v1+cell": {
     "cellMetadata": {},
     "inputWidgets": {},
     "nuid": "2418572e-d93b-43c1-b29b-459606214097",
     "showTitle": false,
     "title": ""
    }
   },
   "outputs": [],
   "source": []
  }
 ],
 "metadata": {
  "application/vnd.databricks.v1+notebook": {
   "dashboards": [],
   "environmentMetadata": null,
   "language": "python",
   "notebookMetadata": {
    "pythonIndentUnit": 4
   },
   "notebookName": "PYSPARK DATAFRAME - HANDLING MISSING VALUES",
   "widgets": {}
  },
  "kernelspec": {
   "display_name": "Python 3",
   "language": "python",
   "name": "python3"
  },
  "language_info": {
   "codemirror_mode": {
    "name": "ipython",
    "version": 3
   },
   "file_extension": ".py",
   "mimetype": "text/x-python",
   "name": "python",
   "nbconvert_exporter": "python",
   "pygments_lexer": "ipython3",
   "version": "3.7.10"
  }
 },
 "nbformat": 4,
 "nbformat_minor": 0
}
